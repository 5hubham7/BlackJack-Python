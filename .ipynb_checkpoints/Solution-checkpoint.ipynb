{
 "cells": [
  {
   "cell_type": "markdown",
   "metadata": {},
   "source": [
    "DEFINATIONS:"
   ]
  },
  {
   "cell_type": "code",
   "execution_count": 2,
   "metadata": {},
   "outputs": [],
   "source": [
    "import random\n",
    "suits=['H', 'D', 'S', 'C']\n",
    "ranks=[2, 3, 4, 5, 6, 7, 8, 9, 10, 'J', 'Q', 'K', 'A']\n",
    "values={'2':2, '3':3, '4':4, '5':5, '6':6, '7':7, '8':8, '9':9, '10':10, 'J':10, 'Q':10, 'K':10, 'A':11}"
   ]
  },
  {
   "cell_type": "markdown",
   "metadata": {},
   "source": [
    "LOGIC 1:"
   ]
  },
  {
   "cell_type": "code",
   "execution_count": 63,
   "metadata": {},
   "outputs": [],
   "source": [
    "class Card:\n",
    "    def __init__(self,suit,rank):\n",
    "        self.suit=suit\n",
    "        self.rank=rank\n",
    "\n",
    "    def __str__(self):\n",
    "        return str(self.rank)+self.suit+\".png\" #returned cards in the file formats of images\n",
    "\n",
    "class Deck:\n",
    "    def __init__(self):\n",
    "        self.deck=[] #Empty deck created..\n",
    "        for suit in suits:\n",
    "            for rank in ranks:\n",
    "                self.deck.append(Card(suit,rank)) #Added all 52 cards in deck by combining global suits and ranks..\n",
    "\n",
    "    def __str__(self): #exrta methhod to test whats in our deck..\n",
    "        deckComposition='' \n",
    "        for card in self.deck:\n",
    "            deckComposition += '\\n '+card.__str__()\n",
    "        return 'The deck has:' + deckComposition\n",
    "\n",
    "    def shuffle(self):\n",
    "        random.shuffle(self.deck) #method for shuffling deck\n",
    "\n",
    "    def deal(self):\n",
    "        singleCard = self.deck.pop() #selecting a card from shuffled deck\n",
    "        return singleCard"
   ]
  },
  {
   "cell_type": "code",
   "execution_count": 125,
   "metadata": {},
   "outputs": [],
   "source": [
    "d=Deck()"
   ]
  },
  {
   "cell_type": "code",
   "execution_count": 128,
   "metadata": {},
   "outputs": [
    {
     "name": "stdout",
     "output_type": "stream",
     "text": [
      "7H.png\n"
     ]
    }
   ],
   "source": [
    "d.shuffle()\n",
    "print(d.deal())"
   ]
  },
  {
   "cell_type": "markdown",
   "metadata": {},
   "source": [
    "LOGIC 2:"
   ]
  },
  {
   "cell_type": "code",
   "execution_count": 43,
   "metadata": {},
   "outputs": [
    {
     "name": "stdout",
     "output_type": "stream",
     "text": [
      "D9.png\n"
     ]
    }
   ],
   "source": [
    "print(suits[int(random.randint(0,3))]+str(ranks[int(random.randint(0,12))])+\".png\")"
   ]
  },
  {
   "cell_type": "code",
   "execution_count": 44,
   "metadata": {},
   "outputs": [],
   "source": [
    "class Deck2:\n",
    "    def __init__(self):\n",
    "        self.suit=suits[int(random.randint(0,3))]\n",
    "        self.rank=ranks[int(random.randint(0,12))]\n",
    "\n",
    "    def deal(self):\n",
    "        return str(self.rank)+self.suit+\".png\""
   ]
  },
  {
   "cell_type": "code",
   "execution_count": 45,
   "metadata": {},
   "outputs": [
    {
     "name": "stdout",
     "output_type": "stream",
     "text": [
      "2H.png\n"
     ]
    }
   ],
   "source": [
    "d=Deck2()\n",
    "print(d.deal())"
   ]
  },
  {
   "cell_type": "code",
   "execution_count": 133,
   "metadata": {},
   "outputs": [],
   "source": [
    "class Hand2:\n",
    "    def __init__(self):\n",
    "        self.cards=[]  #start with an empty list as we did in the Deck class\n",
    "        self.value=0   #start with zero value\n",
    "        self.aces=0    #add an attribute to keep track of aces\n",
    "    \n",
    "    def add_card(self,card):\n",
    "        self.cards.append(card)\n",
    "        self.value+=values[str(card.rank)]\n",
    "        if card.rank=='A':\n",
    "            self.aces+=1\n",
    "\n",
    "    def adjust_for_ace(self):\n",
    "        while self.value>21 and self.aces:\n",
    "            self.value-=10\n",
    "            self.aces-=1\n",
    "\n",
    "    def __str__(self):\n",
    "        return self.cards"
   ]
  },
  {
   "cell_type": "code",
   "execution_count": 134,
   "metadata": {},
   "outputs": [],
   "source": [
    "h=Hand2()"
   ]
  },
  {
   "cell_type": "code",
   "execution_count": 143,
   "metadata": {},
   "outputs": [],
   "source": [
    "h.add_card(d.deal())"
   ]
  },
  {
   "cell_type": "code",
   "execution_count": 144,
   "metadata": {},
   "outputs": [
    {
     "name": "stdout",
     "output_type": "stream",
     "text": [
      "AD.png\n",
      "KC.png\n",
      "KS.png\n",
      "8D.png\n",
      "8H.png\n"
     ]
    }
   ],
   "source": [
    "for i in h.__str__():\n",
    "    print(i)"
   ]
  },
  {
   "cell_type": "code",
   "execution_count": 164,
   "metadata": {},
   "outputs": [],
   "source": [
    "class Coins:\n",
    "    def __init__(self):\n",
    "        self.total=100\n",
    "        self.bet=0\n",
    "\n",
    "    def win(self):\n",
    "        self.total+=self.bet\n",
    "\n",
    "    def lose(self):\n",
    "        self.total-=self.bet"
   ]
  },
  {
   "cell_type": "code",
   "execution_count": 149,
   "metadata": {},
   "outputs": [],
   "source": [
    "c=Coins()"
   ]
  },
  {
   "cell_type": "code",
   "execution_count": 73,
   "metadata": {},
   "outputs": [
    {
     "name": "stdout",
     "output_type": "stream",
     "text": [
      "Would you like to Hit or Stand? Enter 'h' or 's' h\n"
     ]
    }
   ],
   "source": [
    "def hit(deck,hand):\n",
    "    hand.add_card(deck.deal())\n",
    "    hand.adjust_for_ace()\n",
    "\n",
    "def hit_or_stand(deck,hand):\n",
    "    global playing\n",
    "\n",
    "    while True:\n",
    "        if x[0].lower() == 'h':\n",
    "            hit(deck,hand)  # hit() function defined above\n",
    "\n",
    "        elif x[0].lower() == 's':\n",
    "            print(\"Player stands. Dealer is playing.\")\n",
    "            playing = False\n",
    "\n",
    "        else:\n",
    "            print(\"Sorry, please try again.\")\n",
    "            continue\n",
    "        break\n",
    "\n",
    "hit_or_stand(d,h)"
   ]
  },
  {
   "cell_type": "code",
   "execution_count": 74,
   "metadata": {},
   "outputs": [
    {
     "name": "stdout",
     "output_type": "stream",
     "text": [
      "AH.png\n",
      "AS.png\n",
      "10H.png\n",
      "9H.png\n",
      "6D.png\n",
      "6C.png\n",
      "2H.png\n",
      "AC.png\n",
      "7D.png\n",
      "10C.png\n",
      "AC.png\n",
      "KC.png\n",
      "QC.png\n"
     ]
    }
   ],
   "source": [
    "for i in h.__str__():\n",
    "    print(i)"
   ]
  },
  {
   "cell_type": "code",
   "execution_count": null,
   "metadata": {},
   "outputs": [],
   "source": []
  }
 ],
 "metadata": {
  "kernelspec": {
   "display_name": "Python 3",
   "language": "python",
   "name": "python3"
  },
  "language_info": {
   "codemirror_mode": {
    "name": "ipython",
    "version": 3
   },
   "file_extension": ".py",
   "mimetype": "text/x-python",
   "name": "python",
   "nbconvert_exporter": "python",
   "pygments_lexer": "ipython3",
   "version": "3.6.8"
  }
 },
 "nbformat": 4,
 "nbformat_minor": 1
}
